{
 "cells": [
  {
   "cell_type": "markdown",
   "metadata": {},
   "source": [
    "# A train ride through the Netherlands\n",
    "\n",
    "In this notebook we will use the API of the Dutch Railways to find the following information from each Dutch station: \n",
    "\n",
    "* Stationcode;\n",
    "* Latitude;\n",
    "* Longitude;\n",
    "* Short name;\n",
    "* Average name;\n",
    "* Long name;\n",
    "* Final destination;\n",
    "* Earliest time of departure.\n",
    "\n",
    "We'll save this information in a mySQL database. I will follow various steps to achieve my goal. I'll first import the request-module, so that I can connect to the API I need first, the travel information of the NS (Dutch Railways) with the category 'stations'. "
   ]
  },
  {
   "cell_type": "code",
   "execution_count": null,
   "metadata": {},
   "outputs": [],
   "source": [
    "import requests\n",
    "my_headers = {'Ocp-Apim-Subscription-Key': 'secret-secret-secret'}\n",
    "r = requests.get('https://gateway.apiportal.ns.nl/reisinformatie-api/api/v2/stations', headers=my_headers)"
   ]
  },
  {
   "cell_type": "markdown",
   "metadata": {},
   "source": [
    "## Step 1: station data\n",
    "\n",
    "With this data I can find the first 6 items on my list of the 400 Dutch stations. I'll transform the information to a JSON-object so that I can process it easier, and I'll look at one item first to see what information I'm receiving. "
   ]
  },
  {
   "cell_type": "code",
   "execution_count": 2,
   "metadata": {},
   "outputs": [
    {
     "data": {
      "text/plain": [
       "{'UICCode': '8002084',\n",
       " 'stationType': 'SNELTREIN_STATION',\n",
       " 'EVACode': '8000139',\n",
       " 'code': 'MGZB',\n",
       " 'sporen': [],\n",
       " 'synoniemen': ['Gunzburg'],\n",
       " 'heeftFaciliteiten': True,\n",
       " 'heeftVertrektijden': True,\n",
       " 'heeftReisassistentie': False,\n",
       " 'namen': {'lang': 'Günzburg', 'middel': 'Günzburg', 'kort': 'Günzburg'},\n",
       " 'land': 'D',\n",
       " 'lat': 48.460226,\n",
       " 'lng': 10.278707,\n",
       " 'radius': 0,\n",
       " 'naderenRadius': 0,\n",
       " 'ingangsDatum': '2018-12-16',\n",
       " 'nearbyMeLocationId': {'value': 'MGZB', 'type': 'stationV2'}}"
      ]
     },
     "execution_count": 2,
     "metadata": {},
     "output_type": "execute_result"
    }
   ],
   "source": [
    "data = r.json()\n",
    "\n",
    "data['payload'][0]"
   ]
  },
  {
   "cell_type": "markdown",
   "metadata": {},
   "source": [
    "I can see the information I need, but I also notice I'm receiving foreign stations. I'll have to filter for 'land': 'NL'. \n",
    "\n",
    "I'll make six lists to store my information. \n",
    "I'll save data[payload] as a subset of my data, considering it has everything I need. It'll be easier to use and I won't have to type it out every time. \n",
    "\n",
    "Then I'll go through th elocations to save the correct information. I'll make a variable 'num'. I'll put a number behind my dataset, starting with the first item and number 0. If I have the information from this location, I'll add 1 to the number, and restart the loop so it will go to the next location. \n",
    "\n",
    "I'll finish by printing one of my lists, to check if it only has Dutch stations, and by printing the length of the list, to see if the amount is sensible."
   ]
  },
  {
   "cell_type": "code",
   "execution_count": 3,
   "metadata": {},
   "outputs": [
    {
     "name": "stdout",
     "output_type": "stream",
     "text": [
      "397 stations, van Aalten tot Zwijndrecht, namelijk:\n",
      "['Aalten', 'Abcoude', 'Akkrum', 'Alkmaar', 'Almelo', 'Alkmaar N', 'Alphen', 'Schothorst', 'Amersfrt C', 'RAI', 'Amstel', 'Amsterdm C', 'Sloterdijk', 'Muiderprt', 'Amsterdm Z', 'Anna Paulo', 'Apeldoorn', 'Appingedam', 'Arkel', 'Arnemuiden', 'Arnhem C', 'Velperprt', 'Assen', 'Bijlmer A', 'Presikhaaf', 'Lelylaan', 'Almere C', 'Buiten', 'Muziekwijk', 'Baarn', 'Baflo', 'Barendrcht', 'Barnevld C', 'Barnevld N', 'Bedum', 'Beek-E', 'Beesd', 'Beilen', 'Parkwijk', 'Bergen opZ', 'Best', 'Beverwijk', 'Bilthoven', 'Barnevld Z', 'Blerick', 'Bloemendl', 'Bodegraven', 'Borne', 'Boskoop', 'Snijdelwk', 'Bovenk-Gr', 'Boxmeer', 'Boxtel', 'Breda', 'Prinsenbk', 'Breukelen', 'Lansingerl', 'Brummen', 'Buitenpost', 'Bunde', 'Bunnik', 'Bussum Z', 'Schollevr', 'Castricum', 'Chevremont', 'Coevorden', 'Culemborg', 'Cuijk', 'Dalen', 'Diemen Z', 'Daarlervn', 'Diemen', 'Delft Camp', 'Dalfsen', 'Deinum', 'Delden', 'Delft', 'Delfzijl', 'Deurne', 'Deventer', 'Didam', 'Delfzijl W', 'Dieren', 'Doetinchem', 'Den Dolder', 'Dordrecht', 'Dordrcht Z', 'Driebergen', 'Driehuis', 'De Huet', 'Colmschate', 'Stadspldrs', 'De Vink', 'Dronryp', 'Duiven', 'Duivendrt', 'Echt', 'Strijp-S', 'Dronten', 'Ede-Wag', 'Ede C', 'Eemshaven', 'Eindhovn C', 'Elst', 'Emmen', 'Enkhuizen', 'Enschede', 'Ermelo', 'Eschmarke', 'Etten-Leur', 'Eijsden', 'Kennispark', 'Oostvaard', 'Arnhem Z', 'Vathorst', 'Osseveld', 'Bovenk Flo', 'Holendrcht', 'Franeker', 'De Maten', 'Eygelsh M', 'Scienceprk', 'Boven-Har', 'Europapark', 'Gaanderen', 'Brandevrt', 'Geldermlsn', 'Geldrop', 'Geleen O', 'Geleen-Lut', 'Gilze-Rij', 'Goes', 'Goor', 'Gorinchem', 'Goverwelle', 'Gouda', 'Gramsbergn', 'Glanerbrug', 'Groningen', 'Groningn N', 'Grou-Jirns', 'Grijpskerk', 'Spaarnwde', 'Mariahoeve', 'Moerwijk', 'Dn Haag HS', 'Den Haag C', 'Haarlem', 'Hurdegaryp', 'Hardenberg', 'Harderwijk', 'Hardinxvld', 'Harlingen', 'Haren', 'Harl Haven', 'Brouwhuis', \"'t Hout\", 'IJsstadion', 'Heemstede', 'Dn Heldr Z', 'Heerenveen', 'Heerhugow', 'Heerlen', 'Heeze', 'Heiloo', 'Heino', 'Den Helder', 'Hengelo O', 'Helmond', 'Hemmen-D', 'Hengelo', 'Heemskerk', 'Den Bosch', 'Dn Bosch O', 'Hilversum', 'Hindeloopn', 'Media Park', 'Hoensbroek', 'Hol Rading', 'Holten', 'Hillegom', 'Hoogeveen', 'Hoogezand', 'Hoofddorp', 'Hoogkrspl', 'Castellum', 'Hoorn Kers', 'Hoorn', 'Eygelshov', 'Horst-Sev', 'Houten', 'Houthem-St', 'Kampen', 'Kapelle-Bi', 'Kerkrade C', 'Kesteren', 'Kampen Z', 'Klarenbk', 'Klimmen-R', 'Koog Zaan', 'Zaanse S.', 'Koudum-M', 'Krabbendke', 'Krommenie', 'Kropswolde', 'Kruiningen', 'Ypenburg', 'Laan v NOI', 'Lage Zwalu', 'Leiden Lam', 'Leerdam', 'Leeuwarden', \"'t Harde\", 'Camminghab', 'Leiden C', 'Lelystad C', 'Lichtenv-G', 'Lochem', 'Halfweg-Zw', 'Loppersum', 'Heerlen W', 'Lunteren', 'Emmen Z', 'Maarn', 'Maarssen', 'Maastricht', 'Randwyck', 'Mantgum', 'Mariënberg', 'Martenshk', 'Maarheeze', 'Gezondhprk', 'Meerssen', 'Meppel', 'Middelburg', 'Blauwe Zm', 'Mook-Molen', 'Maastr. N', 'Poort', 'Lent', 'Naarden-Bu', \"Nw A'dam\", 'Nieuwerkrk', 'Nweschans', 'Nw Vennep', 'Nunspeet', 'Nuth', 'Heyendaal', 'Nijkerk', 'Nijmegen', 'Nijverdal', 'Dukenburg', 'Goffert', 'Obdam', 'Oisterwijk', 'Oldenzaal', 'Olst', 'Ommen', 'Oosterbeek', 'Hoevelaken', 'Opheusden', 'Oss', 'Oss W', 'Baanhoek', 'Oudenbosch', 'Weidevenne', 'Overveen', 'Rijswijk', 'Overwhere', 'Alexander', 'Purmerend', 'Putten', 'Raalte', 'Ravenstein', 'Rhenen', 'Reuver', 'Rheden', 'de Riet', 'Rilland-Ba', 'Roermond', 'Rosmalen', 'Roodeschl', 'Roosendaal', 'Blaak', 'Rotterdm C', 'Rotterdm N', 'Rotterdm Z', \"R'dam Sta\", 'Ruurlo', 'Rijssen', 'Lombardije', 'Santprt N', 'Santprt Z', 'Sauwerd', 'Landgraaf', 'Schagen', 'Scheemda', 'Schiedam C', 'Schinnen', 'Schin op G', 'Schiphol', 'Sittard', 'Sliedrecht', 'Sneek', 'Soest', 'Soestdijk', 'Sportpark', 'Soest Z', 'Spaubeek', 'Sneek N', 'Stavoren', 'Stedum', 'Steenwijk', 'Susteren', 'Swalmen', 'Tegelen', 'Terborg', 'Tilburg Un', 'Tiel', 'Tilburg', 'Reeshof', 'Twello', 'Passewaaij', 'Sassenheim', 'VaartscheR', 'LeidscheRn', 'Zuilen', 'Terwijde', 'Uitgeest', 'Uithuizen', 'Uithuizerm', 'Usquert', 'Overvecht', 'Utrecht C', 'Lunetten', 'Maliebaan', 'Veenendl C', 'Veenendl W', 'Valkenburg', 'Varsseveld', 'Veendam', 'De Klomp', 'Feanwâlden', 'Velp', 'Venlo', 'Venray', 'Vierlingsb', 'Vleuten', 'Vlissingen', 'Souburg', 'Voorhout', 'Voerendaal', 'Voorburg', 'Voorschtn', 'Vorden', 'Vriezenvn', 'Vroomshoop', 'Vught', 'Voorst-E', 'Waddinxv N', 'Waddinxvn', 'Triangel', 'Warffum', 'Weert', 'Weesp', 'Wehl', 'Westervrt', 'Wezep', 'Wierden', 'Winschoten', 'Winsum', 'Winterswk', 'Wintersw W', 'Woerden', 'Wolfheze', 'Wolvega', 'Workum', 'Wormerveer', 'Wijchen', 'Wijhe', 'IJlst', 'Kogerveld', 'Zaandam', 'Zaltbommel', 'Zandvoort', 'Zetten-And', 'Zevenaar', 'Zevenbergn', 'Zoetermr O', 'Zoetermeer', 'Zuidbroek', 'Zuidhorn', 'Zutphen', 'Westereen', 'Stadshagen', 'Zwolle', 'Zwijndrcht']\n"
     ]
    }
   ],
   "source": [
    "stationscodes = []\n",
    "latitudes = []\n",
    "longitudes = []\n",
    "naam_kort = []\n",
    "naam_mid = []\n",
    "naam_lang = []\n",
    "\n",
    "dataset = data['payload']\n",
    "num = 0\n",
    "for item in dataset:\n",
    "    if dataset[num]['land'] == 'NL':\n",
    "        stationscodes.append(dataset[num]['code'])\n",
    "        latitudes.append(dataset[num]['lat'])\n",
    "        longitudes.append(dataset[num]['lng'])\n",
    "        naam_kort.append(dataset[num]['namen']['kort'])\n",
    "        naam_mid.append(dataset[num]['namen']['middel'])\n",
    "        naam_lang.append(dataset[num]['namen']['lang'])\n",
    "    num += 1\n",
    "\n",
    "print(f\"{len(naam_kort)} stations, from {naam_mid[0]} to {naam_mid[-1]}, namely:\\n{naam_kort}\")"
   ]
  },
  {
   "cell_type": "markdown",
   "metadata": {},
   "source": [
    "## Step 2: times and destinations\n",
    "\n",
    "This step was harder, because the data received from the API isn't clean. There were stations without departure times, stations that return an error and stations that were perhaps marked as having departure times, but that had no destination. \n",
    "1. I'll start with an empty list and set my number back to 0. \n",
    "2. I'll return to my dataset and only start the loop for 'land'='NL'. \n",
    "3. For each location I'll check if the 'has departure time' variable is true. If it's not, I'll append my list with 'Geen informatie' (= 'No information'). \n",
    "4. If a station should have times, I'll put the stationcode in the URL of the API and request the times and destinations of this station, turning it into JSON.\n",
    "5. Then I'll see if the object starts with 'payload', and is therefore not an error. If it is an error, again, I will add 'no information'. \n",
    "6. If I do receive information, I'll check if there is info in the 'departures' list. If there isn't, again: 'no information'. \n",
    "7. If all the above variables are correct, I'll append the next departure time and destination. \n",
    "\n",
    "Finally, I'll check if I have the same amount of items in my list as previously collected, and that I have something for each station. \n",
    "\n",
    "> It will take approximately 2 minutes to run this code!"
   ]
  },
  {
   "cell_type": "code",
   "execution_count": 4,
   "metadata": {},
   "outputs": [
    {
     "name": "stdout",
     "output_type": "stream",
     "text": [
      "397 bestemmingen en 397 vertrektijden. Bijvoorbeeld om 2022-03-24T13:30:00+0100 naar Arnhem Centraal.\n"
     ]
    }
   ],
   "source": [
    "eindstation = []\n",
    "vertrektijd = []\n",
    "num = 0\n",
    "for item in dataset:\n",
    "    if dataset[num]['land'] == 'NL':\n",
    "        if dataset[num]['heeftVertrektijden'] == True:\n",
    "            times = requests.get('https://gateway.apiportal.ns.nl/reisinformatie-api/api/v2/departures?station='+dataset[num]['code']+'&maxJourneys=1', headers=my_headers)\n",
    "            info = times.json()\n",
    "            if 'payload' in info.keys():\n",
    "                if len(info['payload']['departures']) == 0:\n",
    "                    eindstation.append('Geen informatie')\n",
    "                    vertrektijd.append('Geen informatie')\n",
    "                elif 'direction' in info['payload']['departures'][0].keys():\n",
    "                    eindstation.append(info['payload']['departures'][0]['direction'])\n",
    "                    vertrektijd.append(info['payload']['departures'][0]['plannedDateTime'])\n",
    "            else: \n",
    "                eindstation.append('Geen informatie')\n",
    "                vertrektijd.append('Geen informatie')\n",
    "        else: \n",
    "            eindstation.append('Geen informatie')\n",
    "            vertrektijd.append('Geen informatie')\n",
    "    num +=1\n",
    "print(f\"{len(eindstation)} destinations and {len(vertrektijd)} departure times. For example, at {vertrektijd[0]} to {eindstation[0]}.\")\n"
   ]
  },
  {
   "cell_type": "markdown",
   "metadata": {},
   "source": [
    "## Step 3: to a dataframe\n",
    "\n",
    "I'll make a dictionary of all the information I have. Each station will get its corresponding names, code, long/lat, departure time and destination. \n",
    "\n",
    "Then I'll turn this dictionary into a dataframe, to display and process it more easily. "
   ]
  },
  {
   "cell_type": "code",
   "execution_count": 5,
   "metadata": {},
   "outputs": [
    {
     "data": {
      "text/html": [
       "<div>\n",
       "<style scoped>\n",
       "    .dataframe tbody tr th:only-of-type {\n",
       "        vertical-align: middle;\n",
       "    }\n",
       "\n",
       "    .dataframe tbody tr th {\n",
       "        vertical-align: top;\n",
       "    }\n",
       "\n",
       "    .dataframe thead th {\n",
       "        text-align: right;\n",
       "    }\n",
       "</style>\n",
       "<table border=\"1\" class=\"dataframe\">\n",
       "  <thead>\n",
       "    <tr style=\"text-align: right;\">\n",
       "      <th></th>\n",
       "      <th>Kort</th>\n",
       "      <th>Middel</th>\n",
       "      <th>Lang</th>\n",
       "      <th>Code</th>\n",
       "      <th>Longitude</th>\n",
       "      <th>Latitude</th>\n",
       "      <th>Volgende vertrektijd</th>\n",
       "      <th>Bijbehorend eindstation</th>\n",
       "    </tr>\n",
       "  </thead>\n",
       "  <tbody>\n",
       "    <tr>\n",
       "      <th>0</th>\n",
       "      <td>Aalten</td>\n",
       "      <td>Aalten</td>\n",
       "      <td>Aalten</td>\n",
       "      <td>ATN</td>\n",
       "      <td>6.578627</td>\n",
       "      <td>51.921327</td>\n",
       "      <td>2022-03-24T13:30:00+0100</td>\n",
       "      <td>Arnhem Centraal</td>\n",
       "    </tr>\n",
       "    <tr>\n",
       "      <th>1</th>\n",
       "      <td>Abcoude</td>\n",
       "      <td>Abcoude</td>\n",
       "      <td>Abcoude</td>\n",
       "      <td>AC</td>\n",
       "      <td>4.977000</td>\n",
       "      <td>52.278500</td>\n",
       "      <td>2022-03-24T13:02:00+0100</td>\n",
       "      <td>Driebergen-Zeist</td>\n",
       "    </tr>\n",
       "    <tr>\n",
       "      <th>2</th>\n",
       "      <td>Akkrum</td>\n",
       "      <td>Akkrum</td>\n",
       "      <td>Akkrum</td>\n",
       "      <td>AKM</td>\n",
       "      <td>5.843611</td>\n",
       "      <td>53.046391</td>\n",
       "      <td>2022-03-24T13:12:00+0100</td>\n",
       "      <td>Leeuwarden</td>\n",
       "    </tr>\n",
       "    <tr>\n",
       "      <th>3</th>\n",
       "      <td>Alkmaar</td>\n",
       "      <td>Alkmaar</td>\n",
       "      <td>Alkmaar</td>\n",
       "      <td>AMR</td>\n",
       "      <td>4.739722</td>\n",
       "      <td>52.637779</td>\n",
       "      <td>2022-03-24T13:04:00+0100</td>\n",
       "      <td>Amsterdam Centraal</td>\n",
       "    </tr>\n",
       "    <tr>\n",
       "      <th>4</th>\n",
       "      <td>Almelo</td>\n",
       "      <td>Almelo</td>\n",
       "      <td>Almelo</td>\n",
       "      <td>AML</td>\n",
       "      <td>6.653889</td>\n",
       "      <td>52.358055</td>\n",
       "      <td>2022-03-24T13:01:00+0100</td>\n",
       "      <td>Zwolle</td>\n",
       "    </tr>\n",
       "    <tr>\n",
       "      <th>...</th>\n",
       "      <td>...</td>\n",
       "      <td>...</td>\n",
       "      <td>...</td>\n",
       "      <td>...</td>\n",
       "      <td>...</td>\n",
       "      <td>...</td>\n",
       "      <td>...</td>\n",
       "      <td>...</td>\n",
       "    </tr>\n",
       "    <tr>\n",
       "      <th>392</th>\n",
       "      <td>Zutphen</td>\n",
       "      <td>Zutphen</td>\n",
       "      <td>Zutphen</td>\n",
       "      <td>ZP</td>\n",
       "      <td>6.194167</td>\n",
       "      <td>52.145279</td>\n",
       "      <td>2022-03-24T13:03:00+0100</td>\n",
       "      <td>Zwolle</td>\n",
       "    </tr>\n",
       "    <tr>\n",
       "      <th>393</th>\n",
       "      <td>Westereen</td>\n",
       "      <td>De Westereen</td>\n",
       "      <td>De Westereen</td>\n",
       "      <td>DWE</td>\n",
       "      <td>6.034630</td>\n",
       "      <td>53.248170</td>\n",
       "      <td>2022-03-24T13:08:00+0100</td>\n",
       "      <td>Groningen</td>\n",
       "    </tr>\n",
       "    <tr>\n",
       "      <th>394</th>\n",
       "      <td>Stadshagen</td>\n",
       "      <td>Stadshagen</td>\n",
       "      <td>Zwolle Stadshagen</td>\n",
       "      <td>ZLSH</td>\n",
       "      <td>6.051460</td>\n",
       "      <td>52.527640</td>\n",
       "      <td>2022-03-24T13:09:00+0100</td>\n",
       "      <td>Zwolle</td>\n",
       "    </tr>\n",
       "    <tr>\n",
       "      <th>395</th>\n",
       "      <td>Zwolle</td>\n",
       "      <td>Zwolle</td>\n",
       "      <td>Zwolle</td>\n",
       "      <td>ZL</td>\n",
       "      <td>6.091944</td>\n",
       "      <td>52.504723</td>\n",
       "      <td>2022-03-24T13:07:00+0100</td>\n",
       "      <td>Amsterdam Centraal</td>\n",
       "    </tr>\n",
       "    <tr>\n",
       "      <th>396</th>\n",
       "      <td>Zwijndrcht</td>\n",
       "      <td>Zwijndrecht</td>\n",
       "      <td>Zwijndrecht</td>\n",
       "      <td>ZWD</td>\n",
       "      <td>4.641667</td>\n",
       "      <td>51.814999</td>\n",
       "      <td>2022-03-24T13:05:00+0100</td>\n",
       "      <td>Den Haag Centraal</td>\n",
       "    </tr>\n",
       "  </tbody>\n",
       "</table>\n",
       "<p>397 rows × 8 columns</p>\n",
       "</div>"
      ],
      "text/plain": [
       "           Kort        Middel               Lang  Code  Longitude   Latitude  \\\n",
       "0        Aalten        Aalten             Aalten   ATN   6.578627  51.921327   \n",
       "1       Abcoude       Abcoude            Abcoude    AC   4.977000  52.278500   \n",
       "2        Akkrum        Akkrum             Akkrum   AKM   5.843611  53.046391   \n",
       "3       Alkmaar       Alkmaar            Alkmaar   AMR   4.739722  52.637779   \n",
       "4        Almelo        Almelo             Almelo   AML   6.653889  52.358055   \n",
       "..          ...           ...                ...   ...        ...        ...   \n",
       "392     Zutphen       Zutphen            Zutphen    ZP   6.194167  52.145279   \n",
       "393   Westereen  De Westereen       De Westereen   DWE   6.034630  53.248170   \n",
       "394  Stadshagen    Stadshagen  Zwolle Stadshagen  ZLSH   6.051460  52.527640   \n",
       "395      Zwolle        Zwolle             Zwolle    ZL   6.091944  52.504723   \n",
       "396  Zwijndrcht   Zwijndrecht        Zwijndrecht   ZWD   4.641667  51.814999   \n",
       "\n",
       "         Volgende vertrektijd Bijbehorend eindstation  \n",
       "0    2022-03-24T13:30:00+0100         Arnhem Centraal  \n",
       "1    2022-03-24T13:02:00+0100        Driebergen-Zeist  \n",
       "2    2022-03-24T13:12:00+0100              Leeuwarden  \n",
       "3    2022-03-24T13:04:00+0100      Amsterdam Centraal  \n",
       "4    2022-03-24T13:01:00+0100                  Zwolle  \n",
       "..                        ...                     ...  \n",
       "392  2022-03-24T13:03:00+0100                  Zwolle  \n",
       "393  2022-03-24T13:08:00+0100               Groningen  \n",
       "394  2022-03-24T13:09:00+0100                  Zwolle  \n",
       "395  2022-03-24T13:07:00+0100      Amsterdam Centraal  \n",
       "396  2022-03-24T13:05:00+0100       Den Haag Centraal  \n",
       "\n",
       "[397 rows x 8 columns]"
      ]
     },
     "execution_count": 5,
     "metadata": {},
     "output_type": "execute_result"
    }
   ],
   "source": [
    "statdict = {'Short': naam_kort, 'Middle': naam_mid, 'Long': naam_lang, 'Code': stationscodes, \\\n",
    "'Longitude': longitudes, 'Latitude': latitudes, 'Next_departure_time': vertrektijd, 'Matching_final_destination': eindstation}\n",
    "\n",
    "import pandas as pd\n",
    "\n",
    "df = pd.DataFrame(statdict)\n",
    "\n",
    "df"
   ]
  },
  {
   "cell_type": "markdown",
   "metadata": {},
   "source": [
    "## Step 4: to the database\n",
    "\n",
    "Now I'll contact my server and prepare the data to be added. \n",
    "I'll write code to make a new database and table with the columns as shown above, and to put the data in the right column. \n",
    "Ik schrijf de code om een nieuwe database en tabel aan te maken met de bijbehorende kolommen zoals je die hierboven ziet, en de juiste data in de juiste kolom te zetten. "
   ]
  },
  {
   "cell_type": "code",
   "execution_count": 6,
   "metadata": {},
   "outputs": [
    {
     "name": "stdout",
     "output_type": "stream",
     "text": [
      "Bestand succesvol geladen!\n"
     ]
    }
   ],
   "source": [
    "import mysql.connector\n",
    "\n",
    "# ADD YOUR LOGIN INFO HERE \n",
    "mydb = mysql.connector.connect(\n",
    "  host=\"localhost\",\n",
    "  user=\"username_here\",\n",
    "  password=\"password_here\"\n",
    ")\n",
    "\n",
    "cursor = mydb.cursor()\n",
    "\n",
    "cursor.execute(\"DROP DATABASE IF EXISTS verzamelen_ns\")\n",
    "cursor.execute(\"CREATE DATABASE IF NOT EXISTS verzamelen_ns\")\n",
    "cursor.execute(\"USE verzamelen_ns\")\n",
    "cursor.execute(\"DROP TABLE IF EXISTS nlstations\")\n",
    "cursor.execute(\n",
    "    \"CREATE TABLE nlstations\"\n",
    "    \"(Short VARCHAR(255) NOT NULL, Middle VARCHAR(255) NOT NULL, Long VARCHAR(255) NOT NULL,\\\n",
    "Code VARCHAR(255) NOT NULL, Longitude FLOAT(23) NOT NULL, Latitude FLOAT(23) NOT NULL, Next_departure_time VARCHAR(255) NOT NULL, Matching_final_destination VARCHAR(255) NOT NULL)\"\n",
    "    )\n",
    "\n",
    "for row in df.itertuples(index=False):\n",
    "    sql = \"INSERT INTO nlstations (Short, Middle, Long, Code, Longitude, Latitude, Next_departure_time, Matching_final_destination)\\\n",
    "values (%s, %s, %s, %s, %s, %s, %s, %s)\"\n",
    "    cursor.execute(sql, row)\n",
    "    mydb.commit()\n",
    "print(\"File loaded succesfully!\")\n"
   ]
  },
  {
   "cell_type": "markdown",
   "metadata": {},
   "source": [
    "## Ready for departure!\n",
    "\n",
    "The information of all stations has been retreived and loaded in the database. It's easy to reach now! "
   ]
  }
 ],
 "metadata": {
  "interpreter": {
   "hash": "ce787e8f1609f2b7480b025383d9adcd805940d88523addd40a9abaf9dcaa1a8"
  },
  "kernelspec": {
   "display_name": "Python 3.10.2 ('verz03': venv)",
   "language": "python",
   "name": "python3"
  },
  "language_info": {
   "codemirror_mode": {
    "name": "ipython",
    "version": 3
   },
   "file_extension": ".py",
   "mimetype": "text/x-python",
   "name": "python",
   "nbconvert_exporter": "python",
   "pygments_lexer": "ipython3",
   "version": "3.10.2"
  },
  "orig_nbformat": 4
 },
 "nbformat": 4,
 "nbformat_minor": 2
}
