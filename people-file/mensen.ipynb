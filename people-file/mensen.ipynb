{
 "cells": [
  {
   "cell_type": "markdown",
   "metadata": {},
   "source": [
    "# Regex exercise\n",
    "\n",
    "This notebook will showcase various Regex exercises.\n",
    "\n",
    "## Places to live\n",
    "In this exercise we will answer questions about the hometowns of our target population.\n",
    "\n",
    "1. How many people live in Amsterdam?\n",
    "2. What are the street names of people living in postal code number 7311? \n",
    "3. In which cities are streets containing the name 'Willem'? Alphabetically ordered result. \n",
    "\n",
    "To start with question one: according to www.postcode-adresboek.nl the postal codes of Amsterdam are 1011 to 1109. We need to find these codes in the text-file in combination with the word 'Amsterdam'. We're looking for four numbers, than one or no space, and then two letters, followed by a space and then 'Amsterdam' (possibly with additions, which wouldn't matter). The first two digits are 1 and then a 0 or 1.\n",
    "\"1 : the first number is 1\n",
    "[0|1]: the second number is 0 or 1\n",
    "\\d{2}: followed by two random digits \n",
    "\\s?: Then one or zero spaces\n",
    "[A-Z]{2}: Then two capitals between A and Z\n",
    "\\sAmsterdam: then a space and the word Amsterdam\n",
    "\n",
    "I will also make a function that uses a pattern to go through the data, and adds the found data to a list. This, because I might have to do the same action several times in this notebook. I also import the regex module, open the file and go though it line by line until I find something that matches the pattern. I'll add it to the list and request the length of the list: this way I will get the number of postal codes in Amsterdam."
   ]
  },
  {
   "cell_type": "code",
   "execution_count": 1,
   "metadata": {},
   "outputs": [
    {
     "name": "stdout",
     "output_type": "stream",
     "text": [
      "['1056 WL Amsterdam', '1075 GC Amsterdam', '1011 GH Amsterdam', '1013 XB Amsterdam', '1077 CR Amsterdam']\n",
      "Er staan 213 bewoners van Amsterdam in het bestand.\n"
     ]
    }
   ],
   "source": [
    "pattern_ams = \"1[0|1]\\d{2}\\s?[A-Z]{2}\\sAmsterdam\"\n",
    "\n",
    "def search_request(pattern, target, tally):\n",
    "    if (re.search(pattern, target)):\n",
    "        tally.append(target)\n",
    "    return pattern, target, tally\n",
    "\n",
    "import re\n",
    "AmsterdamCitizens = []\n",
    "with open('people.txt', errors=\"ignore\") as file:\n",
    "    data = file.read().split(\"\\n\")\n",
    "    for line in data:\n",
    "        search_request(pattern_ams, line, AmsterdamCitizens)\n",
    "\n",
    "print(AmsterdamCitizens[0:5])\n",
    "print(f'There are {len(AmsterdamCitizens)} citizens of Amsterdam in the file.')"
   ]
  },
  {
   "cell_type": "markdown",
   "metadata": {},
   "source": [
    "Now I have to look for the streetnames and -numbers of the people in postal code 7311. We'll make a new pattern. We know that we have to find 7311. We'll make a group (which is: (?P<groupname>) ) for the streetname and -number, so that we can easily retrieve it later. We'll say that the streetname can consist of anything (\".\\*\") and the -number of any amount of digits (\"\\d*\"), divided by a space (\\s). On the new line will be the postal code 7311 (\\n7311). In the above cel I already imported and divided the data by new lines, so that the results would look better, but I have to revert it now: otherwise the code will read the file line by line and my pattern wouldn't work. "
   ]
  },
  {
   "cell_type": "code",
   "execution_count": 2,
   "metadata": {},
   "outputs": [
    {
     "name": "stdout",
     "output_type": "stream",
     "text": [
      "('Schotweg', '153')\n",
      "('Torenstraat', '200')\n",
      "('Nieuwstraat', '34')\n",
      "('Kortebeinstraat', '58')\n",
      "('Librije', '31')\n"
     ]
    }
   ],
   "source": [
    "streetPattern = re.compile(r\"(?P<streetname>.*)\\s(?P<streetnumber>\\d*)\\n7311\")\n",
    "with open('people.txt', errors=\"ignore\") as file:\n",
    "    unsplit = file.read()\n",
    "    postcodeMatches = streetPattern.findall(unsplit)\n",
    "    for address in postcodeMatches: \n",
    "        print(address)\n"
   ]
  },
  {
   "cell_type": "markdown",
   "metadata": {},
   "source": [
    "Finally I will look for all places that have streets containing 'Willem'. I'll make a pattern with a group for the place name. I'll look for a string of undefined characters that contains 'Willem', followed by one or more digits. Then on a new line I need four numbers and two capitals (the postal code). This way I won't just search for first- or last names for example, but really only for street names. After the postal code will be the group 'placename', consisting of one or more letters and spaces. It will save everything until the end of that line, this way I will also store city names consisting of more than one word.\n",
    "All these city names will be saved in a list. Then, I will go through the list and save only unique city names. It returns 36 cities. "
   ]
  },
  {
   "cell_type": "code",
   "execution_count": 3,
   "metadata": {},
   "outputs": [
    {
     "name": "stdout",
     "output_type": "stream",
     "text": [
      "Er zijn 36 steden met een straatnaam waar 'Willem' in voorkomt. Deze steden zijn:\n",
      "['Amstelveen', 'Bathmen', 'Berg en Dal', 'Best', 'Borculo', 'Buren', 'Bussum', 'Den Helder', 'Deventer', 'Dordrecht', 'Dreumel', 'Edam', 'Eibergen', 'Eindhoven', 'Enschede', 'Groningen', 'Helden', 'IJsselstein', 'Katwijk', 'Leeuwarden', 'Leiden', 'Monnickendam', 'Nieuwegein', 'Oegstgeest', 'Oud Gastel', 'Rotterdam', 'Schijndel', 'Sittard', 'Slagharen', 'Sleeuwijk', 'Sneek', 'Strijensas', 'Ugchelen', 'Uithoorn', 'Vlaardingen', 'Voorburg']\n"
     ]
    }
   ],
   "source": [
    "Willem = re.compile(r\".*Willem.*\\s\\d+\\n\\d{4}\\s*[A-Z]{2}\\s(?P<plaatsnaam>[A-Za-z]+.*)\")\n",
    "WillemMatches = Willem.findall(unsplit)\n",
    "answer = []\n",
    "for item in WillemMatches:\n",
    "    if item not in answer: \n",
    "        answer.append(item)\n",
    "print(f\"There are {len(answer)} cities with a street containing 'Willem'. The cities are:\")\n",
    "print(sorted(answer))\n"
   ]
  },
  {
   "cell_type": "markdown",
   "metadata": {},
   "source": [
    "## Phone numbers\n",
    "\n",
    "In this exercise we will answer several questions regarding a text-file.\n",
    "1. How many phone numbers are in the file?\n",
    "2. How many phone numbers end on 0?\n",
    "3. What are the phone numbers containing 666 in the body? (so excluding the first '06')\n",
    "4. What are the phone numbers that only use numbers 6, 7, 8, 9 and 0?\n",
    "\n",
    "We know that Dutch phone numbers, both mobile and landline, exists of 10 digits. \n",
    "\n",
    "First I will make a pattern that the phone numbers could match. \n",
    "A phone number will be written as follows:\n",
    "(with a space, attached, or with a dash)\n",
    "06 12345678 \n",
    "031 2345678\n",
    "0431 345678\n",
    "\n",
    "I'll catch the first group (2 to 4 numbers) as follows: \\d{2} (it will start with at least 2 numbers) and \\d* (then either none or some more digits). \n",
    "Next, I'll catch the dash, other punctuation mark, or attached, as follows: \\s?.? (a space, a punctuation mark, both optional)\n",
    "Finally the final group of digits: \\d{6} (at least 6 digits) \\d* (after that none or some more digits)"
   ]
  },
  {
   "cell_type": "code",
   "execution_count": 4,
   "metadata": {},
   "outputs": [],
   "source": [
    "telPattern = \"\\d{2}\\d*\\s?.?\\d{6}\\d*\""
   ]
  },
  {
   "cell_type": "markdown",
   "metadata": {},
   "source": [
    "I'll use this pattern to search my file and save any found matches in a 'phonebook'-list."
   ]
  },
  {
   "cell_type": "code",
   "execution_count": 5,
   "metadata": {},
   "outputs": [
    {
     "name": "stdout",
     "output_type": "stream",
     "text": [
      "['06 65594347', '06 54990591', '06 59639138', '06 00708074', '06 99487919']\n"
     ]
    }
   ],
   "source": [
    "phonebook = []\n",
    "for line in data: \n",
    "    search_request(telPattern, line, phonebook)\n",
    "\n",
    "print(phonebook[0:5])\n"
   ]
  },
  {
   "cell_type": "markdown",
   "metadata": {},
   "source": [
    "The result is a list with phonenumbers! I'll check how many there are."
   ]
  },
  {
   "cell_type": "code",
   "execution_count": 6,
   "metadata": {},
   "outputs": [
    {
     "name": "stdout",
     "output_type": "stream",
     "text": [
      "Er zijn 2369 telefoonnummers in dit bestand.\n"
     ]
    }
   ],
   "source": [
    "print(f\"There are {len(phonebook)} phonenumbers in the file.\")"
   ]
  },
  {
   "cell_type": "markdown",
   "metadata": {},
   "source": [
    "Now I'll search how many numbers end on a 0. I'll lightly adapt my previous pattern. I'll check with '0$' if the last digit in each line is a 0. If it is, I'll add it to my results list."
   ]
  },
  {
   "cell_type": "code",
   "execution_count": 7,
   "metadata": {},
   "outputs": [
    {
     "name": "stdout",
     "output_type": "stream",
     "text": [
      "Er zijn 226 nummers eindigend op een 0 in dit bestand.\n"
     ]
    }
   ],
   "source": [
    "nul_pattern = \"\\d{2}\\d*\\s?.?\\d{6}\\d*0$\"\n",
    "nul_numbers = []\n",
    "for number in phonebook:\n",
    "    search_request(nul_pattern, number, nul_numbers)\n",
    "\n",
    "print(f\"There are {len(nul_numbers)} numbers ending on a 0.\")"
   ]
  },
  {
   "cell_type": "markdown",
   "metadata": {},
   "source": [
    "Now we'll find all the numbers containing 666. Again, I'll adapt my previous pattern. \n",
    "The beginning will stay the same. Then I will change it: an undefined amount of digits (\\d*), then it must contain 666, and then again an undefined amount of digits. \n",
    "The results are kept in a list."
   ]
  },
  {
   "cell_type": "code",
   "execution_count": 8,
   "metadata": {},
   "outputs": [
    {
     "name": "stdout",
     "output_type": "stream",
     "text": [
      "Er zijn 10 nummers met '666' in hun body. De nummers zijn: ['06 81159666', '06 66617275', '06 35458666', '06 79129666', '06 93566645', '06 56664905', '06 40789666', '06 47666791', '06 22666721', '06 81666899']\n"
     ]
    }
   ],
   "source": [
    "devil_pattern = \"\\d{2}\\d*\\s?.?\\d*666\\d*\"\n",
    "devil_numbers = []\n",
    "for number in phonebook:\n",
    "    search_request(devil_pattern number, devil_numbers)\n",
    "\n",
    "print(f\"There are {len(devil_numbers)} numbers with '666' in their body. The numbers are: {devil_numbers}\")"
   ]
  },
  {
   "cell_type": "markdown",
   "metadata": {},
   "source": [
    "Finally, I'll have to find the numbers with just 6,7,8,9 and 0. I'll use the pattern from the last exercise, but I'll change the second part to a filter looking for 6,7,8,9 and 0. I do this by using a '+', which finds one or more of the preceding number. \n",
    "Also, I'll filter for only mobile phone numbers, which means I'll separate the first two numbers (\\d{2}), then filter for a space (\\s), and then in the remaining 8 digits look for the given numbers. "
   ]
  },
  {
   "cell_type": "code",
   "execution_count": 9,
   "metadata": {},
   "outputs": [
    {
     "name": "stdout",
     "output_type": "stream",
     "text": [
      "Er zijn 13 nummers met enkel 6, 7, 8, 9 of 0 in hun body. De nummers zijn: ['06 89790998', '06 60767687', '06 06809799', '06 69768699', '06 98090669', '06 77089007', '06 78986889', '06 79067060', '06 68980880', '06 90899980', '06 89677768', '06 00078607', '06 77967898']\n"
     ]
    }
   ],
   "source": [
    "speci_pattern = \"\\d{2}\\s[06-9]{8}\"\n",
    "speci_numbers = []\n",
    "for number in phonebook:\n",
    "    search_request(speci_pattern, number, speci_numbers)\n",
    "\n",
    "print(f\"There are {len(speci_numbers)} numbers with only 6, 7, 8, 9 or 0. These numbers are: {speci_numbers}\")"
   ]
  }
 ],
 "metadata": {
  "interpreter": {
   "hash": "ac2f9454583accd3feb086708c5df601765eafc703201ab01b98369d7bfefc8d"
  },
  "kernelspec": {
   "display_name": "Python 3.10.2 ('verz02': venv)",
   "language": "python",
   "name": "python3"
  },
  "language_info": {
   "codemirror_mode": {
    "name": "ipython",
    "version": 3
   },
   "file_extension": ".py",
   "mimetype": "text/x-python",
   "name": "python",
   "nbconvert_exporter": "python",
   "pygments_lexer": "ipython3",
   "version": "3.10.2"
  },
  "orig_nbformat": 4
 },
 "nbformat": 4,
 "nbformat_minor": 2
}
