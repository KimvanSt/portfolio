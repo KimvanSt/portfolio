{
 "cells": [
  {
   "cell_type": "markdown",
   "id": "eee7b5ce",
   "metadata": {},
   "source": [
    "# Minecraft treasure-hunt\n",
    "\n",
    "In this notebook we'll attempt to find all treasure chests not facing the east. We received a zip-file with .nbt files, the file format of Minecraft. We'll use a python_nbt package to help us."
   ]
  },
  {
   "cell_type": "code",
   "execution_count": 7,
   "id": "1f35fcf4",
   "metadata": {},
   "outputs": [],
   "source": [
    "import python_nbt.nbt as nbt"
   ]
  },
  {
   "cell_type": "markdown",
   "id": "9c829406",
   "metadata": {},
   "source": [
    " ## Exploration\n",
    "I extracted one file to see what it looks like. I use the package to turn it into a JSON file for easier processing. "
   ]
  },
  {
   "cell_type": "code",
   "execution_count": 23,
   "id": "82db182c",
   "metadata": {},
   "outputs": [
    {
     "data": {
      "text/plain": [
       "{'size': [3, 4, 3],\n",
       " 'entities': [],\n",
       " 'blocks': [{'pos': [0, 0, 1], 'state': 0},\n",
       "  {'pos': [1, 0, 0], 'state': 0},\n",
       "  {'pos': [1, 0, 2], 'state': 0},\n",
       "  {'pos': [2, 0, 1], 'state': 0},\n",
       "  {'pos': [0, 2, 1], 'state': 0},\n",
       "  {'pos': [1, 2, 0], 'state': 0},\n",
       "  {'pos': [1, 2, 2], 'state': 0},\n",
       "  {'pos': [2, 2, 1], 'state': 0},\n",
       "  {'pos': [0, 0, 0], 'state': 1},\n",
       "  {'pos': [0, 0, 2], 'state': 1},\n",
       "  {'pos': [1, 0, 1], 'state': 2},\n",
       "  {'pos': [2, 0, 0], 'state': 1},\n",
       "  {'pos': [2, 0, 2], 'state': 1},\n",
       "  {'pos': [0, 1, 0], 'state': 1},\n",
       "  {'pos': [0, 1, 1], 'state': 1},\n",
       "  {'pos': [0, 1, 2], 'state': 1},\n",
       "  {'pos': [1, 1, 0], 'state': 1},\n",
       "  {'pos': [1, 1, 1], 'state': 2},\n",
       "  {'pos': [1, 1, 2], 'state': 1},\n",
       "  {'pos': [2, 1, 0], 'state': 1},\n",
       "  {'pos': [2, 1, 1], 'state': 1},\n",
       "  {'pos': [2, 1, 2], 'state': 1},\n",
       "  {'pos': [0, 2, 0], 'state': 1},\n",
       "  {'pos': [0, 2, 2], 'state': 1},\n",
       "  {'pos': [1, 2, 1], 'state': 3},\n",
       "  {'pos': [2, 2, 0], 'state': 1},\n",
       "  {'pos': [2, 2, 2], 'state': 1},\n",
       "  {'pos': [0, 3, 0], 'state': 1},\n",
       "  {'pos': [0, 3, 1], 'state': 1},\n",
       "  {'pos': [0, 3, 2], 'state': 1},\n",
       "  {'pos': [1, 3, 0], 'state': 1},\n",
       "  {'pos': [1, 3, 2], 'state': 1},\n",
       "  {'pos': [2, 3, 0], 'state': 1},\n",
       "  {'pos': [2, 3, 1], 'state': 1},\n",
       "  {'pos': [2, 3, 2], 'state': 1},\n",
       "  {'nbt': {'Items': [{'Slot': 13, 'id': 'minecraft:golden_apple', 'Count': 1}],\n",
       "    'id': 'minecraft:chest'},\n",
       "   'pos': [1, 3, 1],\n",
       "   'state': 4}],\n",
       " 'palette': [{'Name': 'minecraft:stone_bricks'},\n",
       "  {'Name': 'minecraft:air'},\n",
       "  {'Properties': {'level': '8'}, 'Name': 'minecraft:lava'},\n",
       "  {'Properties': {'level': '0'}, 'Name': 'minecraft:lava'},\n",
       "  {'Properties': {'waterlogged': 'false', 'facing': 'east', 'type': 'single'},\n",
       "   'Name': 'minecraft:chest'}],\n",
       " 'DataVersion': 2584}"
      ]
     },
     "execution_count": 23,
     "metadata": {},
     "output_type": "execute_result"
    }
   ],
   "source": [
    "file = nbt.read_from_nbt_file('mauron_eye_000.nbt')\n",
    "jsonnbt = file.json_obj(full_json=False)\n",
    "\n",
    "jsonnbt"
   ]
  },
  {
   "cell_type": "markdown",
   "id": "7f9900a7",
   "metadata": {},
   "source": [
    "I can see the value I need is in 'facing'. I'm trying to find out how to best reach this value."
   ]
  },
  {
   "cell_type": "code",
   "execution_count": 24,
   "id": "0646701d",
   "metadata": {},
   "outputs": [
    {
     "name": "stdout",
     "output_type": "stream",
     "text": [
      "size\n",
      "entities\n",
      "blocks\n",
      "palette\n",
      "DataVersion\n"
     ]
    }
   ],
   "source": [
    "for name in jsonnbt:\n",
    "    print(name)"
   ]
  },
  {
   "cell_type": "markdown",
   "id": "15112f44",
   "metadata": {},
   "source": [
    "An educated guess tells me it's above DataVersion - in 'palette'. "
   ]
  },
  {
   "cell_type": "code",
   "execution_count": 25,
   "id": "09c0e686",
   "metadata": {},
   "outputs": [
    {
     "name": "stdout",
     "output_type": "stream",
     "text": [
      "{'Name': 'minecraft:stone_bricks'}\n",
      "{'Name': 'minecraft:air'}\n",
      "{'Properties': {'level': '8'}, 'Name': 'minecraft:lava'}\n",
      "{'Properties': {'level': '0'}, 'Name': 'minecraft:lava'}\n",
      "{'Properties': {'waterlogged': 'false', 'facing': 'east', 'type': 'single'}, 'Name': 'minecraft:chest'}\n"
     ]
    }
   ],
   "source": [
    "for name in jsonnbt['palette']:\n",
    "    print(name)"
   ]
  },
  {
   "cell_type": "markdown",
   "id": "fd75a3a4",
   "metadata": {},
   "source": [
    "'Facing' inside 'Palette' is stored in a 'Properties' of which the name is 'minecraft:chest'. I'll write a loop that iwll go through 'Palette'. Then it will go through each target-group and check if the 'Name'-value matches 'minecraft:chest'. If so, it will take the 'facing'-value of that group and save it in a new variable named 'direction'. "
   ]
  },
  {
   "cell_type": "code",
   "execution_count": 26,
   "id": "02cdfd68",
   "metadata": {},
   "outputs": [
    {
     "name": "stdout",
     "output_type": "stream",
     "text": [
      "east\n"
     ]
    }
   ],
   "source": [
    "for group in jsonnbt['palette']:\n",
    "    if group['Name'] == 'minecraft:chest':\n",
    "        direction = group['Properties']['facing']\n",
    "        print(direction)"
   ]
  },
  {
   "cell_type": "markdown",
   "id": "e711cf39",
   "metadata": {},
   "source": [
    "## The investigation\n",
    "\n",
    "Now that I know how to get the value out of the NBT-file, it's time to process the Zip-folder. I'll use the zipfile-import. Each NBT-file will be transformed into a JSON-file and subjected to my loop, after which I will save the direction-values in a list. "
   ]
  },
  {
   "cell_type": "code",
   "execution_count": 29,
   "id": "6ffbb928",
   "metadata": {},
   "outputs": [],
   "source": [
    "import zipfile \n",
    "\n",
    "north = []\n",
    "south = []\n",
    "west = []\n",
    "# I'll create 3 empty lists to save the files facing the wrong direction. \n",
    "\n",
    "zf = zipfile.ZipFile('Maurons.zip')\n",
    "with zf as folder:\n",
    "    for nbtfile in folder.namelist():\n",
    "        file = nbt.read_from_nbt_file(zf.open(str(nbtfile)))\n",
    "        jsonfile = file.json_obj(full_json=False)\n",
    "# The folder is unzipped and a loop runs through each file, turning it into a JSON. \n",
    "\n",
    "        for group in jsonfile['palette']:\n",
    "            if group['Name'] == 'minecraft:chest':\n",
    "                direction = group['Properties']['facing']\n",
    "# This is the loop I created earlier, finding the direction of each chest.\n",
    "\n",
    "                if direction == 'north':\n",
    "                    north.append(nbtfile[19:22])\n",
    "                elif direction == 'south':\n",
    "                    south.append(nbtfile[19:22])\n",
    "                elif direction == 'west':\n",
    "                    west.append(nbtfile[19:22])\n",
    "                elif direction != 'east':\n",
    "                    print(f'Vreemde waarde in bestand {nbtfile[19:22]}')\n",
    "# The bottom part looks at the direction-values. For each direction that is not east, it will save the filename. "
   ]
  },
  {
   "cell_type": "markdown",
   "id": "d6afc516",
   "metadata": {},
   "source": [
    "## The result\n",
    "\n",
    "Now I have a list for each wrong direction, and I can let my friend know which files contain a wrong-facing chest."
   ]
  },
  {
   "cell_type": "code",
   "execution_count": 30,
   "id": "9e7d5c46",
   "metadata": {},
   "outputs": [
    {
     "name": "stdout",
     "output_type": "stream",
     "text": [
      "Noordelijke kisten, 7 stuks, bestandsnamen: ['059', '112', '150', '571', '611', '694', '708'].\n",
      " Zuidelijke kisten, 31 stuks, bestandsnamen: ['033', '062', '093', '117', '172', '216', '261', '263', '274', '287', '292', '321', '340', '390', '445', '493', '524', '527', '600', '629', '646', '647', '754', '798', '826', '872', '878', '926', '986', '994', '996'].\n",
      " Westelijke kisten, 6 stuks, bestandsnamen: ['206', '376', '398', '400', '896', '906'].\n"
     ]
    }
   ],
   "source": [
    "print(f'Facing north, {len(north)} chests, file names: {north}.\\nFacing south, {len(south)} chests, file names: {south}.\\nFacing west, {len(west)} chests, file names: {west}.')"
   ]
  }
 ],
 "metadata": {
  "kernelspec": {
   "display_name": "Python 3 (ipykernel)",
   "language": "python",
   "name": "python3"
  },
  "language_info": {
   "codemirror_mode": {
    "name": "ipython",
    "version": 3
   },
   "file_extension": ".py",
   "mimetype": "text/x-python",
   "name": "python",
   "nbconvert_exporter": "python",
   "pygments_lexer": "ipython3",
   "version": "3.10.2"
  }
 },
 "nbformat": 4,
 "nbformat_minor": 5
}
